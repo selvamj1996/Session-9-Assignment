{
 "cells": [
  {
   "cell_type": "markdown",
   "metadata": {},
   "source": [
    " ##  $$Assignment-9$$\n",
    " ###  $$Task-1$$"
   ]
  },
  {
   "cell_type": "markdown",
   "metadata": {},
   "source": [
    "1. You survey households in your area to find the average rent they are paying. Find the standard deviation from the following data: \n",
    "$1550, $1700, $900, $850, $1000, $950"
   ]
  },
  {
   "cell_type": "code",
   "execution_count": 1,
   "metadata": {},
   "outputs": [],
   "source": [
    "from math import sqrt\n",
    "import statistics as stat"
   ]
  },
  {
   "cell_type": "code",
   "execution_count": 2,
   "metadata": {},
   "outputs": [
    {
     "name": "stdout",
     "output_type": "stream",
     "text": [
      "Std-Dev  135416.6666666667\n"
     ]
    }
   ],
   "source": [
    "arr = [1550,1700,900,850,1000,950]\n",
    "\n",
    "def find_mean(arr):\n",
    "    return sum(arr)/len(arr)\n",
    "\n",
    "def find_variance(arr):\n",
    "    variance = 0.0\n",
    "    mean = find_mean(arr)\n",
    "    variance = sum((x - mean)**2 for x in arr) / (len(arr)-1)\n",
    "    return variance\n",
    "\n",
    "def find_std_dev(arr):\n",
    "    return find_variance(arr)\n",
    "\n",
    "# print(\"Mean \" + str(find_mean(arr)))\n",
    "# print(\"Variance \" + str(find_variance(arr)))\n",
    "print(\"Std-Dev  \" + str(find_std_dev(arr)))"
   ]
  },
  {
   "cell_type": "code",
   "execution_count": 4,
   "metadata": {},
   "outputs": [
    {
     "name": "stdout",
     "output_type": "stream",
     "text": [
      "Std-Dev = 367.9900360969936\n"
     ]
    }
   ],
   "source": [
    "# mean = stat.mean(arr)\n",
    "# variance = stat.variance(arr)\n",
    "# std_dev = stat.stdev(arr)\n",
    "# print(\"Mean = \" + str(stat.mean(arr)) + \"\\nVariance = \" + str(stat.variance(arr)) + \"\\nStd-Dev = \" + str(stat.stdev(arr)))\n",
    "print(\"Std-Dev = \" + str(stat.stdev(arr)))"
   ]
  },
  {
   "cell_type": "markdown",
   "metadata": {},
   "source": [
    "2. Find the variance for the following set of data representing trees in California (heights in feet):\n",
    "3, 21, 98, 203, 17, 9"
   ]
  },
  {
   "cell_type": "code",
   "execution_count": 5,
   "metadata": {},
   "outputs": [
    {
     "name": "stdout",
     "output_type": "stream",
     "text": [
      "Variance = 6219.9\n"
     ]
    }
   ],
   "source": [
    "vrince = [3, 21, 98, 203, 17, 9]\n",
    "print(\"Variance = \" + str(stat.variance(vrince)))"
   ]
  },
  {
   "cell_type": "markdown",
   "metadata": {},
   "source": [
    "3. In a class on 100 students, 80 students passed in all subjects, 10 failed in one subject, 7 failed\n",
    "in two subjects and 3 failed in three subjects. Find the probability distribution of the variable for\n",
    "number of subjects a student from the given class has failed in."
   ]
  },
  {
   "cell_type": "code",
   "execution_count": null,
   "metadata": {},
   "outputs": [],
   "source": []
  },
  {
   "cell_type": "markdown",
   "metadata": {},
   "source": [
    "## $$Task - 2$$"
   ]
  },
  {
   "cell_type": "markdown",
   "metadata": {},
   "source": [
    "1. A test is conducted which is consisting of 20 MCQs (multiple choices questions) with every\n",
    "MCQ having its four options out of which only one is correct. Determine the probability that a\n",
    "person undertaking that test has answered exactly 5 questions wrong."
   ]
  },
  {
   "cell_type": "code",
   "execution_count": null,
   "metadata": {},
   "outputs": [],
   "source": []
  },
  {
   "cell_type": "markdown",
   "metadata": {},
   "source": [
    "2. A die marked A to E is rolled 50 times. Find the probability of getting a “D” exactly 5 times."
   ]
  },
  {
   "cell_type": "code",
   "execution_count": null,
   "metadata": {},
   "outputs": [],
   "source": []
  },
  {
   "cell_type": "markdown",
   "metadata": {},
   "source": [
    "3. Two balls are drawn at random in succession without replacement from an urn containing 4\n",
    "red balls and 6 black balls.\n",
    "Find the probabilities of all the possible outcomes."
   ]
  },
  {
   "cell_type": "code",
   "execution_count": null,
   "metadata": {},
   "outputs": [],
   "source": []
  }
 ],
 "metadata": {
  "kernelspec": {
   "display_name": "Python 3",
   "language": "python",
   "name": "python3"
  },
  "language_info": {
   "codemirror_mode": {
    "name": "ipython",
    "version": 3
   },
   "file_extension": ".py",
   "mimetype": "text/x-python",
   "name": "python",
   "nbconvert_exporter": "python",
   "pygments_lexer": "ipython3",
   "version": "3.7.0"
  }
 },
 "nbformat": 4,
 "nbformat_minor": 2
}
